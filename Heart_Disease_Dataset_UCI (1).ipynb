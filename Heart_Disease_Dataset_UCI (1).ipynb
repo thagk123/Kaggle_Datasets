{
  "cells": [
    {
      "cell_type": "code",
      "execution_count": null,
      "metadata": {
        "colab": {
          "base_uri": "https://localhost:8080/"
        },
        "id": "O1pJq86fh3tY",
        "outputId": "2ac42fe9-663d-40e6-e24d-5f6d2ffecd1f"
      },
      "outputs": [
        {
          "output_type": "stream",
          "name": "stdout",
          "text": [
            "Requirement already satisfied: ucimlrepo in /usr/local/lib/python3.11/dist-packages (0.0.7)\n",
            "Requirement already satisfied: pandas>=1.0.0 in /usr/local/lib/python3.11/dist-packages (from ucimlrepo) (2.2.2)\n",
            "Requirement already satisfied: certifi>=2020.12.5 in /usr/local/lib/python3.11/dist-packages (from ucimlrepo) (2024.12.14)\n",
            "Requirement already satisfied: numpy>=1.23.2 in /usr/local/lib/python3.11/dist-packages (from pandas>=1.0.0->ucimlrepo) (1.26.4)\n",
            "Requirement already satisfied: python-dateutil>=2.8.2 in /usr/local/lib/python3.11/dist-packages (from pandas>=1.0.0->ucimlrepo) (2.8.2)\n",
            "Requirement already satisfied: pytz>=2020.1 in /usr/local/lib/python3.11/dist-packages (from pandas>=1.0.0->ucimlrepo) (2024.2)\n",
            "Requirement already satisfied: tzdata>=2022.7 in /usr/local/lib/python3.11/dist-packages (from pandas>=1.0.0->ucimlrepo) (2025.1)\n",
            "Requirement already satisfied: six>=1.5 in /usr/local/lib/python3.11/dist-packages (from python-dateutil>=2.8.2->pandas>=1.0.0->ucimlrepo) (1.17.0)\n"
          ]
        }
      ],
      "source": [
        "pip install ucimlrepo"
      ]
    },
    {
      "cell_type": "code",
      "execution_count": null,
      "metadata": {
        "colab": {
          "base_uri": "https://localhost:8080/"
        },
        "id": "neEY5B2diFKa",
        "outputId": "790e6dd6-a739-436c-b78b-cb5e73e42460"
      },
      "outputs": [
        {
          "output_type": "stream",
          "name": "stdout",
          "text": [
            "(303, 13)\n",
            "(303, 1)\n"
          ]
        }
      ],
      "source": [
        "from ucimlrepo import fetch_ucirepo\n",
        "\n",
        "heart_disease = fetch_ucirepo(id=45)\n",
        "\n",
        "X = heart_disease.data.features.values\n",
        "y = heart_disease.data.targets.values\n",
        "\n",
        "print(X.shape)\n",
        "print(y.shape)"
      ]
    },
    {
      "cell_type": "code",
      "execution_count": null,
      "metadata": {
        "id": "KIfSH9ROilmz"
      },
      "outputs": [],
      "source": [
        "from sklearn.impute import SimpleImputer\n",
        "import numpy as np\n",
        "from sklearn.model_selection import train_test_split\n",
        "from sklearn.preprocessing import StandardScaler\n",
        "\n",
        "for i in range(len(y)):\n",
        "  if y[i] != 0:\n",
        "    y[i] = 1\n",
        "\n",
        "imputer = SimpleImputer(missing_values=np.nan, strategy='mean')\n",
        "imputer.fit(X)\n",
        "X = imputer.transform(X)\n",
        "\n",
        "y = y.ravel()\n",
        "X_train, X_test, y_train, y_test = train_test_split(X, y, test_size=0.3, random_state=42)\n",
        "\n",
        "scaler = StandardScaler()\n",
        "X_train = scaler.fit_transform(X_train)\n",
        "X_test = scaler.transform(X_test)\n",
        "\n",
        "for label in y_train:\n",
        "    if label < 0 or label > 1:\n",
        "      print(label)\n",
        "      break"
      ]
    },
    {
      "cell_type": "code",
      "execution_count": null,
      "metadata": {
        "colab": {
          "base_uri": "https://localhost:8080/"
        },
        "id": "5sPCZcL01k9l",
        "outputId": "59d74939-ba66-4efd-866a-fcabb055d9d5"
      },
      "outputs": [
        {
          "output_type": "stream",
          "name": "stdout",
          "text": [
            "83.52%\n"
          ]
        }
      ],
      "source": [
        "from sklearn.linear_model import LogisticRegressionCV\n",
        "\n",
        "model = LogisticRegressionCV(cv=10, random_state=0)\n",
        "model.fit(X_train, y_train)\n",
        "\n",
        "y_pred = model.predict(X_test)\n",
        "\n",
        "from sklearn.metrics import accuracy_score, confusion_matrix\n",
        "\n",
        "print(f\"{accuracy_score(y_test, y_pred)*100:.2f}%\")"
      ]
    },
    {
      "cell_type": "code",
      "execution_count": null,
      "metadata": {
        "colab": {
          "base_uri": "https://localhost:8080/"
        },
        "id": "xaQOELh44MhU",
        "outputId": "6d3cd298-d6c5-4780-c357-e8d5877ca603"
      },
      "outputs": [
        {
          "output_type": "stream",
          "name": "stdout",
          "text": [
            "85.71%\n"
          ]
        }
      ],
      "source": [
        "from sklearn.ensemble import RandomForestClassifier\n",
        "\n",
        "model = RandomForestClassifier(n_estimators=1000, criterion='entropy', random_state=0)\n",
        "model.fit(X_train, y_train)\n",
        "\n",
        "y_pred = model.predict(X_test)\n",
        "\n",
        "from sklearn.metrics import accuracy_score, confusion_matrix\n",
        "\n",
        "print(f\"{accuracy_score(y_test, y_pred)*100:.2f}%\")"
      ]
    },
    {
      "cell_type": "code",
      "execution_count": null,
      "metadata": {
        "colab": {
          "base_uri": "https://localhost:8080/"
        },
        "id": "H9sW-3Jd5oU8",
        "outputId": "9229d721-89ac-4887-f224-4e51fd1a93c5"
      },
      "outputs": [
        {
          "output_type": "stream",
          "name": "stdout",
          "text": [
            "80.22%\n"
          ]
        }
      ],
      "source": [
        "from sklearn.naive_bayes import GaussianNB\n",
        "\n",
        "model = GaussianNB()\n",
        "model.fit(X_train, y_train)\n",
        "\n",
        "y_pred = model.predict(X_test)\n",
        "\n",
        "from sklearn.metrics import accuracy_score, confusion_matrix\n",
        "\n",
        "print(f\"{accuracy_score(y_test, y_pred)*100:.2f}%\")"
      ]
    },
    {
      "cell_type": "code",
      "execution_count": null,
      "metadata": {
        "colab": {
          "base_uri": "https://localhost:8080/"
        },
        "id": "lYcsobrO66SD",
        "outputId": "8c61cf18-8d54-4eae-a408-a0b25224da88"
      },
      "outputs": [
        {
          "output_type": "stream",
          "name": "stdout",
          "text": [
            "{'C': 10, 'decision_function_shape': 'ovr', 'gamma': 0.005, 'kernel': 'sigmoid'}\n",
            "89.01%\n"
          ]
        }
      ],
      "source": [
        "from sklearn.model_selection import GridSearchCV\n",
        "from sklearn.svm import SVC\n",
        "\n",
        "model = SVC(random_state=0)\n",
        "\n",
        "parameters = {'kernel':['rbf', 'poly', 'sigmoid'], 'C': [1, 10, 50, 100], 'gamma': [0.001, 0.005, 0.008, 0.01], 'decision_function_shape':['ovr', 'ovo']}\n",
        "\n",
        "grid = GridSearchCV(estimator=model, param_grid=parameters, scoring='accuracy', cv=5)\n",
        "grid.fit(X_train, y_train)\n",
        "\n",
        "best_parameters = grid.best_params_\n",
        "print(best_parameters)\n",
        "\n",
        "best_model = SVC(kernel=best_parameters['kernel'], C=best_parameters['C'], gamma=best_parameters['gamma'], decision_function_shape=best_parameters['decision_function_shape'], random_state=0)\n",
        "\n",
        "best_model.fit(X_train, y_train)\n",
        "\n",
        "y_pred = best_model.predict(X_test)\n",
        "\n",
        "from sklearn.metrics import accuracy_score\n",
        "\n",
        "print(f\"{accuracy_score(y_test, y_pred)*100:.2f}%\")"
      ]
    },
    {
      "cell_type": "code",
      "execution_count": null,
      "metadata": {
        "colab": {
          "base_uri": "https://localhost:8080/",
          "height": 1000
        },
        "id": "-qKGDPS1BBFM",
        "outputId": "df642262-d83d-4487-9bdd-04e138c6597d"
      },
      "outputs": [
        {
          "output_type": "stream",
          "name": "stdout",
          "text": [
            "Epoch [1/150], Loss: 0.77083200\n",
            "Epoch [2/150], Loss: 0.75119698\n",
            "Epoch [3/150], Loss: 0.73258460\n",
            "Epoch [4/150], Loss: 0.71498746\n",
            "Epoch [5/150], Loss: 0.69849557\n",
            "Epoch [6/150], Loss: 0.68307006\n",
            "Epoch [7/150], Loss: 0.66885412\n",
            "Epoch [8/150], Loss: 0.65557849\n",
            "Epoch [9/150], Loss: 0.64318717\n",
            "Epoch [10/150], Loss: 0.63146108\n",
            "Epoch [11/150], Loss: 0.62032276\n",
            "Epoch [12/150], Loss: 0.60964066\n",
            "Epoch [13/150], Loss: 0.59930134\n",
            "Epoch [14/150], Loss: 0.58927637\n",
            "Epoch [15/150], Loss: 0.57967275\n",
            "Epoch [16/150], Loss: 0.57036906\n",
            "Epoch [17/150], Loss: 0.56131923\n",
            "Epoch [18/150], Loss: 0.55246389\n",
            "Epoch [19/150], Loss: 0.54377782\n",
            "Epoch [20/150], Loss: 0.53527403\n",
            "Epoch [50/150], Loss: 0.36128238\n",
            "Epoch [100/150], Loss: 0.29406372\n",
            "Epoch [150/150], Loss: 0.25050378\n"
          ]
        },
        {
          "output_type": "display_data",
          "data": {
            "text/plain": [
              "<Figure size 1000x600 with 1 Axes>"
            ],
            "image/png": "[encoded data removed]"
          },
          "metadata": {}
        },
        {
          "output_type": "stream",
          "name": "stdout",
          "text": [
            "Ακρίβεια στο Training set: 90.09%\n",
            "[[107   9]\n",
            " [ 12  84]]\n",
            "Ακρίβεια στο Test set: 85.71%\n",
            "[[40  8]\n",
            " [ 5 38]]\n"
          ]
        }
      ],
      "source": [
        "import torch\n",
        "import torch.nn as nn\n",
        "import torch.optim as optim\n",
        "import torch.nn.functional as F\n",
        "import matplotlib.pyplot as plt\n",
        "from sklearn.metrics import confusion_matrix\n",
        "\n",
        "train_data, train_labels = torch.tensor(X_train).float(), torch.tensor(y_train.reshape(-1, 1)).float()\n",
        "test_data, test_labels = torch.tensor(X_test).float(), torch.tensor(y_test.reshape(-1, 1)).float()\n",
        "\n",
        "\n",
        "class MLP(nn.Module):\n",
        "    def __init__(self):\n",
        "        super(MLP, self).__init__()\n",
        "        self.fc1 = nn.Linear(13, 5)\n",
        "        self.fc2 = nn.Linear(5, 1)\n",
        "\n",
        "\n",
        "    def forward(self, x):\n",
        "        x = F.relu(self.fc1(x))\n",
        "        x = F.sigmoid(self.fc2(x))\n",
        "        return x\n",
        "\n",
        "\n",
        "model = MLP()\n",
        "\n",
        "criterion = nn.BCELoss()\n",
        "optimizer = optim.Adam(model.parameters(), lr=0.01)\n",
        "\n",
        "selected_epochs = []\n",
        "selected_losses = []\n",
        "\n",
        "\n",
        "num_epochs = 150\n",
        "for epoch in range(num_epochs):\n",
        "    model.train()\n",
        "    outputs = model(train_data)\n",
        "    loss = criterion(outputs, train_labels)\n",
        "    optimizer.zero_grad()\n",
        "    loss.backward()\n",
        "    optimizer.step()\n",
        "    epoch_loss = loss.item()\n",
        "\n",
        "\n",
        "    if (epoch + 1) <= 20 or (epoch + 1) % 50 == 0:\n",
        "        selected_epochs.append(epoch + 1)\n",
        "        selected_losses.append(epoch_loss)\n",
        "        print(f\"Epoch [{epoch + 1}/{num_epochs}], Loss: {epoch_loss:.8f}\")\n",
        "\n",
        "\n",
        "plt.figure(figsize=(10, 6))\n",
        "plt.plot(selected_epochs, selected_losses, label=\"Selected Loss\", marker='o')\n",
        "plt.xlabel(\"Epochs\")\n",
        "plt.ylabel(\"Loss\")\n",
        "plt.title(\"Training Loss σε Επιλεγμένες Εποχές\")\n",
        "plt.legend()\n",
        "plt.grid()\n",
        "plt.show()\n",
        "\n",
        "\n",
        "model.eval()\n",
        "\n",
        "def predict_acc(data, labels, name):\n",
        "    with torch.no_grad():\n",
        "        outputs = model(data)\n",
        "        predicted = (outputs >= 0.5).float()\n",
        "        correct = (predicted == labels).sum().item()\n",
        "        accuracy = accuracy_score(labels, predicted) * 100\n",
        "\n",
        "    print(f'Ακρίβεια στο {name} set: {accuracy:.2f}%')\n",
        "    print(confusion_matrix(labels, predicted))\n",
        "\n",
        "    return predicted\n",
        "\n",
        "predict_acc(train_data, train_labels, \"Training\")\n",
        "predicted = predict_acc(test_data, test_labels, \"Test\")"
      ]
    }
  ],
  "metadata": {
    "colab": {
      "provenance": []
    },
    "kernelspec": {
      "display_name": "Python 3",
      "name": "python3"
    },
    "language_info": {
      "name": "python"
    }
  },
  "nbformat": 4,
  "nbformat_minor": 0
}