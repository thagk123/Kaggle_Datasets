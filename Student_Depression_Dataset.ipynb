{
  "nbformat": 4,
  "nbformat_minor": 0,
  "metadata": {
    "colab": {
      "provenance": []
    },
    "kernelspec": {
      "name": "python3",
      "display_name": "Python 3"
    },
    "language_info": {
      "name": "python"
    }
  },
  "cells": [
    {
      "cell_type": "code",
      "execution_count": null,
      "metadata": {
        "id": "0KwF9KOr5N5x"
      },
      "outputs": [],
      "source": [
        "import pandas as pd\n",
        "\n",
        "df = pd.read_csv('Student Depression Dataset.csv')\n",
        "\n",
        "df['Gender'] = df['Gender'].map({'Male': 1, 'Female': 0})\n",
        "\n",
        "yes_no_columns = ['Have you ever had suicidal thoughts ?', 'Family History of Mental Illness']\n",
        "for col in yes_no_columns:\n",
        "    df[col] = df[col].map({'Yes': 1, 'No': 0})\n",
        "\n",
        "columns_to_remove = df.select_dtypes(include=['object'])\n",
        "df = df.drop(columns=columns_to_remove)\n",
        "\n",
        "output_file = 'Processed_Student_Depression_Dataset.csv'\n",
        "df.to_csv(output_file, index=False)"
      ]
    },
    {
      "cell_type": "code",
      "source": [
        "dataset = pd.read_csv('Processed_Student_Depression_Dataset.csv')\n",
        "X = dataset.iloc[:, 1:-1].values\n",
        "y = dataset.iloc[:, -1].values\n",
        "\n",
        "from sklearn.model_selection import train_test_split\n",
        "X_train, X_test, y_train, y_test = train_test_split(X, y, test_size = 0.2, random_state = 0)"
      ],
      "metadata": {
        "id": "yYyXUcod6N1p"
      },
      "execution_count": null,
      "outputs": []
    },
    {
      "cell_type": "code",
      "source": [
        "print(X_train[0])\n",
        "print(y_train)"
      ],
      "metadata": {
        "colab": {
          "base_uri": "https://localhost:8080/"
        },
        "id": "QaOk7SMM6brh",
        "outputId": "32b1bf48-35d3-4215-a039-d162a84c6c73"
      },
      "execution_count": null,
      "outputs": [
        {
          "output_type": "stream",
          "name": "stdout",
          "text": [
            "[ 1.   31.    1.    0.    8.89  4.    0.    1.   10.    1.    1.  ]\n",
            "[0 0 1 ... 1 1 0]\n"
          ]
        }
      ]
    },
    {
      "cell_type": "code",
      "source": [
        "from sklearn.preprocessing import StandardScaler\n",
        "sc = StandardScaler()\n",
        "X_train = sc.fit_transform(X_train)\n",
        "X_test = sc.transform(X_test)"
      ],
      "metadata": {
        "id": "gzTZ_xeO8HOJ"
      },
      "execution_count": null,
      "outputs": []
    },
    {
      "cell_type": "code",
      "source": [
        "from sklearn.impute import SimpleImputer\n",
        "import numpy as np\n",
        "\n",
        "imputer = SimpleImputer(missing_values=np.nan, strategy='mean')\n",
        "X_train = imputer.fit_transform(X_train)\n",
        "X_test = imputer.transform(X_test)\n",
        "\n",
        "from sklearn.model_selection import GridSearchCV\n",
        "from sklearn.svm import SVC\n",
        "\n",
        "classifier = SVC()\n",
        "parameters = [{'C': [1000.0, 5000.0, 10000.0], 'gamma':[0.00005, 0.0005, 0.001]}]\n",
        "gr = GridSearchCV(estimator=classifier, param_grid=parameters, scoring='accuracy', cv=5)\n",
        "gr.fit(X_train, y_train)\n",
        "\n",
        "params = gr.best_params_\n",
        "print(params)\n",
        "\n",
        "classifier = SVC(kernel='rbf', C=params['C'], gamma=params['gamma'])\n",
        "classifier.fit(X_train, y_train)\n",
        "\n",
        "y_pred = classifier.predict(X_test)"
      ],
      "metadata": {
        "colab": {
          "base_uri": "https://localhost:8080/"
        },
        "id": "pSgNrI-D7Lb6",
        "outputId": "147438ec-6c4f-46ca-9105-b7f6438010d5"
      },
      "execution_count": null,
      "outputs": [
        {
          "output_type": "stream",
          "name": "stdout",
          "text": [
            "{'C': 5000.0, 'gamma': 5e-05}\n"
          ]
        }
      ]
    },
    {
      "cell_type": "code",
      "source": [
        "from sklearn.impute import SimpleImputer\n",
        "import numpy as np\n",
        "\n",
        "imputer = SimpleImputer(missing_values=np.nan, strategy='mean')\n",
        "X_train = imputer.fit_transform(X_train)\n",
        "X_test = imputer.transform(X_test)\n",
        "\n",
        "from sklearn.linear_model import LogisticRegression\n",
        "classifier = LogisticRegression(random_state = 0)\n",
        "classifier.fit(X_train, y_train)\n",
        "\n",
        "y_pred = classifier.predict(X_test)"
      ],
      "metadata": {
        "id": "dr0mt0Lc_o3Q"
      },
      "execution_count": null,
      "outputs": []
    },
    {
      "cell_type": "code",
      "source": [
        "from sklearn.metrics import confusion_matrix, accuracy_score\n",
        "cm = confusion_matrix(y_test, y_pred)\n",
        "print(cm)\n",
        "print(f\"{accuracy_score(y_test, y_pred)*100:.2f}%\")"
      ],
      "metadata": {
        "colab": {
          "base_uri": "https://localhost:8080/"
        },
        "id": "UdyrJt7T8AxJ",
        "outputId": "c29093ca-cd63-41ec-f0dc-5d19df5fe545"
      },
      "execution_count": null,
      "outputs": [
        {
          "output_type": "stream",
          "name": "stdout",
          "text": [
            "[[1863  463]\n",
            " [ 386 2869]]\n",
            "84.79%\n"
          ]
        }
      ]
    }
  ]
}
